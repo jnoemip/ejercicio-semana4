{
 "cells": [
  {
   "cell_type": "code",
   "execution_count": 1,
   "id": "6f49d837-9d66-4262-b2b0-3e829b28de8e",
   "metadata": {},
   "outputs": [],
   "source": [
    "import pandas as pd\n"
   ]
  },
  {
   "cell_type": "code",
   "execution_count": 2,
   "id": "5d4765dc-8ffc-4fd9-90b6-483ee2e56910",
   "metadata": {},
   "outputs": [],
   "source": [
    "data = pd.read_csv(\"misdata2.csv\")"
   ]
  },
  {
   "cell_type": "code",
   "execution_count": null,
   "id": "fbbfdbd8-307b-4101-8cd2-ba776acc7abe",
   "metadata": {},
   "outputs": [],
   "source": [
    "!pip install pygwalker\n",
    "# si se sigue este proceso, deberá reiniciar el jupyter-lab"
   ]
  },
  {
   "cell_type": "code",
   "execution_count": 3,
   "id": "1dfe7d68-e40e-44cb-a362-66acd5b9e71d",
   "metadata": {},
   "outputs": [],
   "source": [
    "import pygwalker as pyg\n"
   ]
  },
  {
   "cell_type": "code",
   "execution_count": 4,
   "id": "317ce43f-25d7-48dd-a11f-484004a8db82",
   "metadata": {},
   "outputs": [
    {
     "data": {
      "application/vnd.jupyter.widget-view+json": {
       "model_id": "c16c8724b749423dadcb517843898e75",
       "version_major": 2,
       "version_minor": 0
      },
      "text/plain": [
       "Box(children=(HTML(value='<div id=\"ifr-pyg-000616cd13d29dca6PqeKGtW1b7FxJkA\" style=\"height: auto\">\\n    <head>…"
      ]
     },
     "metadata": {},
     "output_type": "display_data"
    },
    {
     "data": {
      "text/html": [],
      "text/plain": [
       "<IPython.core.display.HTML object>"
      ]
     },
     "metadata": {},
     "output_type": "display_data"
    },
    {
     "data": {
      "text/plain": [
       "<pygwalker.api.pygwalker.PygWalker at 0x7cb43e62aa40>"
      ]
     },
     "execution_count": 4,
     "metadata": {},
     "output_type": "execute_result"
    }
   ],
   "source": [
    "pyg.walk(data)\n"
   ]
  }
 ],
 "metadata": {
  "kernelspec": {
   "display_name": "Python 3 (ipykernel)",
   "language": "python",
   "name": "python3"
  },
  "language_info": {
   "codemirror_mode": {
    "name": "ipython",
    "version": 3
   },
   "file_extension": ".py",
   "mimetype": "text/x-python",
   "name": "python",
   "nbconvert_exporter": "python",
   "pygments_lexer": "ipython3",
   "version": "3.10.12"
  }
 },
 "nbformat": 4,
 "nbformat_minor": 5
}
